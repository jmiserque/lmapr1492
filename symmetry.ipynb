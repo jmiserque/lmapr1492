{
 "cells": [
  {
   "cell_type": "code",
   "execution_count": 19,
   "metadata": {},
   "outputs": [],
   "source": [
    "from pymatgen import MPRester\n",
    "\n",
    "mpr = MPRester(\"Hu7cwkuPU50sSCNsQ5M\")\n",
    "data = mpr.query(\"mp-10969\", [\"cif\"])[0]\n",
    "flux = open(\"CdCN2_mp-10969_symmetrized.cif\",\"w\")\n",
    "\n",
    "for key, value in data.items():\n",
    "    flux.write(str(value))\n",
    "\n",
    "flux.close() #télécharge le fichier cif depuis MP"
   ]
  },
  {
   "cell_type": "code",
   "execution_count": 87,
   "metadata": {},
   "outputs": [
    {
     "name": "stdout",
     "output_type": "stream",
     "text": [
      "position atome initial:  [0.66666667 0.33333333 0.33333333]  operation de symétrie suivante  -x, -y, -z  position atome après opération [-0.66666667 -0.33333333 -0.33333333]\n",
      "position atome initial:  [0.33333333 0.66666667 0.66666667]  operation de symétrie suivante  -y, x-y, z  position atome après opération [-0.66666667 -0.33333333  0.66666667]\n",
      "position atome initial:  [0.33333333 0.66666667 0.16666667]  operation de symétrie suivante  y, -x+y, -z  position atome après opération [ 0.66666667  0.33333333 -0.16666667]\n"
     ]
    }
   ],
   "source": [
    "from pymatgen.io.cif import CifParser\n",
    "from pymatgen.symmetry.analyzer import SpacegroupAnalyzer\n",
    "\n",
    "parser = CifParser(\"CdCN2_mp-10969_symmetrized.cif\") #permet de lire le fichier cif\n",
    "structure = parser.get_structures()[0]  #donne la structure du matériaux\n",
    "\n",
    "sp = SpacegroupAnalyzer(structure) #crée le SpacegroupAnalyzer qui permet d'utiliser ses méthodes\n",
    "S = sp.get_conventional_standard_structure() #obtenir la maille conventionnelle\n",
    "conv = SpacegroupAnalyzer(S) #crée le SpacegroupAnalyzer qui permet d'utiliser ses méthodes mais avec la maille conventionnelle pour avoir les 36 opérations de symétries\n",
    "\n",
    "sym = conv.get_symmetry_operations()  #donne les opérations de symétrie du matériaux\n",
    "xyz=[] #initialise xyz\n",
    "\n",
    "for i in range(len(sym)):\n",
    "    xyz.append(sym[i].as_xyz_string())   #lis sym et donne les opérations de symétrie du matériaux en X,Y,Z pour comparer avec jmol\n",
    "\n",
    "atom = sp.get_conventional_standard_structure().sites  #donne les différents atomes de la maille\n",
    "\n",
    "atom1 = atom[1].frac_coords  #coordonnées du deuxième atome de la maille\n",
    "atom2 = atom[2].frac_coords  #coordonnées du troisième atome de la maille\n",
    "atom3 = atom[3].frac_coords  #coordonnées du quatrième atome de la maille\n",
    "\n",
    "ope1 = sym[1].operate(atom1) #donne les coordonnées du deuxieme atome de la maille après l'opération de symétrie 2\n",
    "print('position atome initial: ',atom1,' operation de symétrie suivante ',xyz[1],' position atome après opération',ope1)\n",
    "#image sur gitup symetrie1\n",
    "\n",
    "ope2 = sym[2].operate(atom2) #donne les coordonnées du troisième atome de la maille après l'opération de symétrie 3\n",
    "print('position atome initial: ',atom2,' operation de symétrie suivante ',xyz[2],' position atome après opération',ope2)\n",
    "#image sur gitup symetrie2\n",
    "\n",
    "ope3 = sym[3].operate(atom3) #donne les coordonnées du quatrième atome de la maille après l'opération de symétrie 4\n",
    "print('position atome initial: ',atom3,' operation de symétrie suivante ',xyz[3],' position atome après opération',ope3)\n",
    "#image sur gitup symetrie3\n"
   ]
  },
  {
   "cell_type": "code",
   "execution_count": null,
   "metadata": {},
   "outputs": [],
   "source": []
  },
  {
   "cell_type": "code",
   "execution_count": null,
   "metadata": {},
   "outputs": [],
   "source": []
  }
 ],
 "metadata": {
  "kernelspec": {
   "display_name": "Python 3",
   "language": "python",
   "name": "python3"
  },
  "language_info": {
   "codemirror_mode": {
    "name": "ipython",
    "version": 3
   },
   "file_extension": ".py",
   "mimetype": "text/x-python",
   "name": "python",
   "nbconvert_exporter": "python",
   "pygments_lexer": "ipython3",
   "version": "3.6.8"
  }
 },
 "nbformat": 4,
 "nbformat_minor": 2
}
