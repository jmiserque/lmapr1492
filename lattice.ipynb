{
 "cells": [
  {
   "cell_type": "code",
   "execution_count": 17,
   "metadata": {},
   "outputs": [],
   "source": [
    "from pymatgen import MPRester\n",
    "\n",
    "mpr = MPRester(\"Hu7cwkuPU50sSCNsQ5M\")\n",
    "data = mpr.query(\"mp-10969\", [\"cif\"])[0]\n",
    "flux = open(\"CdCN2_mp-10969_symmetrized.cif\",\"w\")\n",
    "flux2 = open(\"CdCN2_mp-10969_primitive.cif\",\"w\")\n",
    "\n",
    "for key, value in data.items():\n",
    "    flux.write(str(value))\n",
    "\n",
    "for key, value in data.items():\n",
    "    flux2.write(str(value))\n",
    "\n",
    "flux.close()\n",
    "flux2.close()"
   ]
  },
  {
   "cell_type": "code",
   "execution_count": 54,
   "metadata": {},
   "outputs": [],
   "source": [
    "from pymatgen.io.cif import CifParser\n",
    "from pymatgen.symmetry.analyzer import SpacegroupAnalyzer\n",
    "\n",
    "parser = CifParser(\"CdCN2_mp-10969_symmetrized.cif\")\n",
    "structure = parser1.get_structures()[0]\n",
    "S = SpacegroupAnalyzer(structure)                    \n",
    "                                                             \n",
    "vec_direct = structure.lattice.matrix                   \n",
    "vec_reciproque = structure.lattice.reciprocal_lattice.matrix   \n",
    "angles = structure.lattice.angles\n",
    "  \n",
    "maille = S.get_lattice_type()                                \n",
    "syst_cryst = S.get_crystal_system()                            \n",
    "groupe_ponctuel = S.get_point_group_symbol()"
   ]
  },
  {
   "cell_type": "code",
   "execution_count": null,
   "metadata": {},
   "outputs": [],
   "source": []
  }
 ],
 "metadata": {
  "kernelspec": {
   "display_name": "Python 3",
   "language": "python",
   "name": "python3"
  },
  "language_info": {
   "codemirror_mode": {
    "name": "ipython",
    "version": 3
   },
   "file_extension": ".py",
   "mimetype": "text/x-python",
   "name": "python",
   "nbconvert_exporter": "python",
   "pygments_lexer": "ipython3",
   "version": "3.6.8"
  }
 },
 "nbformat": 4,
 "nbformat_minor": 2
}
