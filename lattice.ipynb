{
 "cells": [
  {
   "cell_type": "code",
   "execution_count": 1,
   "metadata": {},
   "outputs": [],
   "source": [
    "from pymatgen import MPRester\n",
    "\n",
    "mpr = MPRester(\"Hu7cwkuPU50sSCNsQ5M\")\n",
    "data = mpr.query(\"mp-10969\", [\"cif\"])[0]\n",
    "flux = open(\"CdCN2_mp-10969_symmetrized.cif\",\"w\")\n",
    "\n",
    "for key, value in data.items():\n",
    "    flux.write(str(value))\n",
    "\n",
    "flux.close() #télécharge le fichier cif depuis MP"
   ]
  },
  {
   "cell_type": "code",
   "execution_count": 3,
   "metadata": {},
   "outputs": [
    {
     "name": "stdout",
     "output_type": "stream",
     "text": [
      "Vecteurs directeurs : [[ 1.47518544  3.05777572 -1.22865564]\n",
      " [ 3.39502053 -0.         -1.22865564]\n",
      " [-0.         -0.         -5.30488716]]\n",
      "Vecteurs reciproques : [[ 0.          2.05482216 -0.        ]\n",
      " [ 1.85070613 -0.8928499  -0.        ]\n",
      " [-0.42863881 -0.26912236 -1.18441451]]\n",
      "Angles : (70.10484401500001, 70.10484415422057, 60.000000047131884)\n",
      "Maille : rhombohedral\n",
      "Systeme crystalin : trigonal\n",
      "Groupe Ponctuel : -3m\n"
     ]
    }
   ],
   "source": [
    "from pymatgen.io.cif import CifParser\n",
    "from pymatgen.symmetry.analyzer import SpacegroupAnalyzer\n",
    "\n",
    "parser = CifParser(\"CdCN2_mp-10969_symmetrized.cif\")\n",
    "structure = parser.get_structures()[0]  #donne la structure du matériaux\n",
    "S = SpacegroupAnalyzer(structure)                    \n",
    "                                                             \n",
    "vec_direct = structure.lattice.matrix   #donne les vecteur directeurs du matériaux                \n",
    "vec_reciproque = structure.lattice.reciprocal_lattice.matrix #donne les vecteurs du réseau réciproque du matériaux\n",
    "angles = structure.lattice.angles #donne les angles du matériaux\n",
    "  \n",
    "maille = S.get_lattice_type()   #donne la maille                            \n",
    "syst_cryst = S.get_crystal_system()  #donne le système crystalin                          \n",
    "groupe_ponctuel = S.get_point_group_symbol() #donne le groupe ponctuel\n",
    "\n",
    "print(\"Vecteurs directeurs :\",vec_direct)\n",
    "print(\"Vecteurs reciproques :\",vec_reciproque)\n",
    "print(\"Angles :\",angles)\n",
    "print(\"Maille :\",maille)\n",
    "print(\"Systeme crystalin :\",syst_cryst)\n",
    "print(\"Groupe Ponctuel :\",groupe_ponctuel)"
   ]
  },
  {
   "cell_type": "code",
   "execution_count": null,
   "metadata": {},
   "outputs": [],
   "source": []
  }
 ],
 "metadata": {
  "kernelspec": {
   "display_name": "Python 3",
   "language": "python",
   "name": "python3"
  },
  "language_info": {
   "codemirror_mode": {
    "name": "ipython",
    "version": 3
   },
   "file_extension": ".py",
   "mimetype": "text/x-python",
   "name": "python",
   "nbconvert_exporter": "python",
   "pygments_lexer": "ipython3",
   "version": "3.6.8"
  }
 },
 "nbformat": 4,
 "nbformat_minor": 2
}
