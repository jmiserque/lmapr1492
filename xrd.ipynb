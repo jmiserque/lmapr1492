{
 "cells": [
  {
   "cell_type": "code",
   "execution_count": 11,
   "metadata": {},
   "outputs": [],
   "source": [
    "from pymatgen import MPRester\n",
    "\n",
    "mpr = MPRester(\"Hu7cwkuPU50sSCNsQ5M\")\n",
    "data = mpr.query(\"mp-10969\", [\"cif\"])[0]\n",
    "flux = open(\"CdCN2_mp-10969_symmetrized.cif\",\"w\")\n",
    "\n",
    "for key, value in data.items():\n",
    "    flux.write(str(value))\n",
    "\n",
    "flux.close() #télécharge le fichier cif depuis MP"
   ]
  },
  {
   "cell_type": "code",
   "execution_count": 19,
   "metadata": {},
   "outputs": [
    {
     "name": "stdout",
     "output_type": "stream",
     "text": [
      "[{'hkl': (0, 0, 1), 'multiplicity': 2}]\n",
      "[{'hkl': (1, 0, 0), 'multiplicity': 4}, {'hkl': (1, 1, 1), 'multiplicity': 2}]\n",
      "[{'hkl': (1, 1, 0), 'multiplicity': 6}]\n"
     ]
    }
   ],
   "source": [
    "from pymatgen.io.cif import CifParser\n",
    "from pymatgen.analysis.diffraction.xrd import XRDCalculator\n",
    "\n",
    "parser = CifParser(\"CdCN2_mp-10969_symmetrized.cif\") #permet de lire le fichier cif\n",
    "structure = parser.get_structures()[0]  #donne la structure du matériaux\n",
    "\n",
    "xrd = XRDCalculator(1.54060,0, None) #construit le xrd\n",
    "\n",
    "pattern = xrd.get_pattern(structure,True,(0, 90)) #donne le pattern de la structure\n",
    "\n",
    "hkls = pattern.hkls #liste des pics du diffractogramme\n",
    "\n",
    "#les 3 premiers pics du diffractogramme\n",
    "print(hkls[0])  \n",
    "print(hkls[1])\n",
    "print(hkls[2])"
   ]
  },
  {
   "cell_type": "code",
   "execution_count": null,
   "metadata": {},
   "outputs": [],
   "source": []
  },
  {
   "cell_type": "code",
   "execution_count": null,
   "metadata": {},
   "outputs": [],
   "source": []
  }
 ],
 "metadata": {
  "kernelspec": {
   "display_name": "Python 3",
   "language": "python",
   "name": "python3"
  },
  "language_info": {
   "codemirror_mode": {
    "name": "ipython",
    "version": 3
   },
   "file_extension": ".py",
   "mimetype": "text/x-python",
   "name": "python",
   "nbconvert_exporter": "python",
   "pygments_lexer": "ipython3",
   "version": "3.6.8"
  }
 },
 "nbformat": 4,
 "nbformat_minor": 2
}
